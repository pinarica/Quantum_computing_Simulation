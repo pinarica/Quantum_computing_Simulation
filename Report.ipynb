{
 "cells": [
  {
   "cell_type": "markdown",
   "metadata": {},
   "source": [
    "# Results From CMSE 401 Quantum Project\n",
    "\n",
    "\n",
    "By: Ricardo Pina"
   ]
  },
  {
   "cell_type": "markdown",
   "metadata": {},
   "source": [
    "## I used dev-amd20 for all computations"
   ]
  },
  {
   "cell_type": "markdown",
   "metadata": {},
   "source": [
    "## Directions\n",
    "https://github.com/softwareQinc/qpp\n",
    "\n",
    "The following three commands are used in each directory of this project. There are three directories Omp, Omp_max, and Serial. \n",
    "\n",
    " - Serial examines 12 simulated Qubits run a simulated Quantum Circuit on the HPCC. According to the documentation on the Quantum++ github, \"The library's simulation capabilities are only restricted by the amount of available physical memory.\". Using this information I tried taking advantage of the supercomputers capabilities by using as much RAM as possible in the configuration settings of the SBATCH files.\n",
    " \n",
    " \n",
    " - Omp, does the same as serial, but now also tries to take advantage of the HPCCC through parallel processing. This was done through the OpenMP software, which allowed me run the main loop in the program in parallel with #pragma omp for schedule(static).\n",
    " \n",
    " \n",
    " - Omp_max, this is an added directory in this project, to try and see how big the program can get. I tried 15 Qubits and 50 cores. the program ran for Two hours on the HPCC."
   ]
  },
  {
   "cell_type": "markdown",
   "metadata": {},
   "source": [
    "# For each Directory:\n",
    "    sbatch run.sb\n",
    "    sbatch run_omp.sb\n",
    "    sbatch run_omp_max.sb\n",
    "    \n",
    "The Simulated algorithm is Grovers Algorithm, it is a quantum algorithm that finds an item in an itemized list faster than its serial counterpart."
   ]
  },
  {
   "cell_type": "code",
   "execution_count": 150,
   "metadata": {},
   "outputs": [],
   "source": [
    "import os\n",
    "import numpy as np\n",
    "import matplotlib.pyplot as plt "
   ]
  },
  {
   "cell_type": "code",
   "execution_count": 151,
   "metadata": {},
   "outputs": [],
   "source": [
    "def times_extract(times):\n",
    "    time_list = []\n",
    "    while(True):\n",
    "        line = times.readline()\n",
    "        if not line:\n",
    "            break\n",
    "        if 'real' in line:\n",
    "            time_list.append(float(line.strip()[7:12]))\n",
    "    times.close\n",
    "    return time_list"
   ]
  },
  {
   "cell_type": "code",
   "execution_count": 152,
   "metadata": {},
   "outputs": [],
   "source": [
    "def times(n = 1, t_dir = 'serial'):\n",
    "    \n",
    "    cwd = os.getcwd()\n",
    "    t = []\n",
    "    \n",
    "    for x in range(0,n):\n",
    "        y = x + 1\n",
    "        plate_size = 'time_{'+ f'{y*25}' + '}' + '.txt'\n",
    "        time_file = os.path.join(cwd, t_dir + plate_size)\n",
    "        t += [(sum(times_extract(open(time_file, 'r')))/25)]\n",
    "    \n",
    "    return t"
   ]
  },
  {
   "cell_type": "code",
   "execution_count": 156,
   "metadata": {},
   "outputs": [],
   "source": [
    "def graph_results(t_dir = 'serial', n=1):\n",
    "    \n",
    "    cwd = os.getcwd()\n",
    "\n",
    "    time_file = os.path.join(cwd, t_dir)\n",
    "    t = times_extract(open(time_file, 'r'))\n",
    "    \n",
    "    plt.violinplot(t, showmeans=True, showmedians=False)\n",
    "    plt.title(t_dir + \" Run\")\n",
    "    plt.ylabel(\"Seconds (s)\")\n",
    "    #plt.xlabel(\"\")\n",
    "\n",
    "    plt.show()"
   ]
  },
  {
   "cell_type": "markdown",
   "metadata": {},
   "source": [
    "## Serial Experiment\n",
    "\n",
    "I compiled the serial code on dev-amd20 using the following commands:\n",
    "\n",
    "sbatch run.sb\n",
    "\n",
    "which has these important commands\n",
    "\n",
    "    #!/bin/bash --login\n",
    "\n",
    "    #SBATCH --time=00:12:00\n",
    "    #SBATCH --mem=100G\n",
    "    #SBATCH -N 1\n",
    "    #SBATCH -c 1\n",
    "    \n",
    "The Serial Program ran decently quick, with a median of about 56 seconds per run. Lets look at the display outlook of one of the algorithms after it has found its item.\n",
    "\n",
    "'''\n",
    "1\n",
    ">> Grover on n = 12 qubits\n",
    ">> Database size: 4096\n",
    ">> Marked state: 3881 -> [1 1 1 1 0 0 1 0 1 0 0 1]\n",
    ">> We run 51 queries\n",
    ">> Probability of the marked state: 0.998507\n",
    ">> Let's sample...\n",
    ">> Hooray, we obtained the correct result: 3881 -> [1 1 1 1 0 0 1 0 1 0 0 1]\n",
    ">> Run time: 41.8201 seconds\n",
    "'''\n",
    "\n",
    "Almost all outputs look like this in this example. What is important to note is the probability of this marked state being the marked state we need to find."
   ]
  },
  {
   "cell_type": "code",
   "execution_count": 157,
   "metadata": {
    "scrolled": true
   },
   "outputs": [
    {
     "data": {
      "image/png": "[encoded data removed]",
      "text/plain": [
       "<Figure size 432x288 with 1 Axes>"
      ]
     },
     "metadata": {
      "needs_background": "light"
     },
     "output_type": "display_data"
    }
   ],
   "source": [
    "graph_results('serial\\\\sbatch_time.txt')"
   ]
  },
  {
   "cell_type": "markdown",
   "metadata": {},
   "source": [
    "## OMP Speedup\n",
    "\n",
    "    #!/bin/bash --login\n",
    "\n",
    "    #SBATCH --time=00:12:00\n",
    "    #SBATCH --mem=100G\n",
    "    #SBATCH -N 1\n",
    "    #SBATCH -c 10\n",
    "\n",
    "'''\n",
    "1\n",
    ">> Grover on n = 12 qubits\n",
    ">> Database size: 4096\n",
    ">> Marked state: 256 -> [0 0 0 1 0 0 0 0 0 0 0 0]\n",
    ">> We run 51 queries\n",
    ">> Probability of the marked state: 0.00023636\n",
    ">> Let's sample...\n",
    ">> Not there yet... we obtained: 3407 -> [1 1 0 1 0 1 0 0 1 1 1 1]\n",
    ">> Run time: 5.16017 seconds\n",
    "'''\n",
    "\n",
    "I chose ten cores, as I felt that it was a low enough setting to request from the HPCC, and large enough to see a reasonable speedup.\n",
    "When comparing the speedup, we can see from the graph below that there was around a 3 times speedup, with ten cores running, thats about .33 speedup for each core, with diminishing returns.\n",
    "unfortunately most Grovers algorithms fail when looking for their marked states."
   ]
  },
  {
   "cell_type": "code",
   "execution_count": 158,
   "metadata": {
    "scrolled": true
   },
   "outputs": [
    {
     "data": {
      "image/png": "[encoded data removed]",
      "text/plain": [
       "<Figure size 432x288 with 1 Axes>"
      ]
     },
     "metadata": {
      "needs_background": "light"
     },
     "output_type": "display_data"
    }
   ],
   "source": [
    "graph_results('omp\\\\sbatch_time_omp.txt')"
   ]
  },
  {
   "cell_type": "markdown",
   "metadata": {},
   "source": [
    "## OMP Max\n",
    "\n",
    "    #!/bin/bash --login\n",
    "\n",
    "    #SBATCH --time=02:00:00\n",
    "    #SBATCH --mem=100G\n",
    "    #SBATCH -N 1\n",
    "    #SBATCH -c 50\n",
    "\n",
    "\n",
    "'''\n",
    "1\n",
    ">> Grover on n = 14 qubits\n",
    ">> Database size: 16384\n",
    ">> Marked state: 14782 -> [1 1 1 0 0 1 1 0 1 1 1 1 1 0]\n",
    ">> We run 101 queries\n",
    ">> Probability of the marked state: 5.98585e-05\n",
    ">> Let's sample...\n",
    ">> Not there yet... we obtained: 15020 -> [1 1 1 0 1 0 1 0 1 0 1 1 0 0]\n",
    ">> Run time: 61.1339 seconds\n",
    "'''\n",
    "\n",
    "I tried running 15 states and I think I was requesting too much from the HPCC and it would not run, 14 states shows that a probability of finding a state with this configuration is basically 0."
   ]
  },
  {
   "cell_type": "code",
   "execution_count": 159,
   "metadata": {
    "scrolled": false
   },
   "outputs": [
    {
     "data": {
      "image/png": "[encoded data removed]",
      "text/plain": [
       "<Figure size 432x288 with 1 Axes>"
      ]
     },
     "metadata": {
      "needs_background": "light"
     },
     "output_type": "display_data"
    }
   ],
   "source": [
    "graph_results('omp_max\\\\sbatch_time_omp_max.txt')"
   ]
  },
  {
   "cell_type": "markdown",
   "metadata": {},
   "source": [
    "## Concluding Discussion\n",
    "\n",
    "I discovered that although I got a big program to run faster on the HPCC I was not able to keep it giving a succesful result. In order to fix this some memory has to be shared between threassds that Hasn't already been shared. \n",
    "It was really cool to see however a quantum simulation and seeing how such a powerful device can barely keep up."
   ]
  }
 ],
 "metadata": {
  "kernelspec": {
   "display_name": "Python 3",
   "language": "python",
   "name": "python3"
  },
  "language_info": {
   "codemirror_mode": {
    "name": "ipython",
    "version": 3
   },
   "file_extension": ".py",
   "mimetype": "text/x-python",
   "name": "python",
   "nbconvert_exporter": "python",
   "pygments_lexer": "ipython3",
   "version": "3.6.5"
  }
 },
 "nbformat": 4,
 "nbformat_minor": 4
}
